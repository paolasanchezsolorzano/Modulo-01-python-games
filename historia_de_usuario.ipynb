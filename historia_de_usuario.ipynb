{
 "cells": [
  {
   "cell_type": "markdown",
   "metadata": {},
   "source": [
    "# historia de usuario\n",
    "\n",
    "buscamos otra manera de entretenimiento educativo para los usuarios de GitHub, contratar a un equipo de analistas de datos para crear tres juegos diferentes (Preguntas y Respuestas, Ahorcado y piedra, papel y tijeras) para implantarlos en la plataforma, para proporcionar una buena experiencia mientras aprenden.\n",
    "\n",
    "### Objetivos de la Historia de Usuario:\n",
    "\n",
    " ### Creación de Juegos Educativos para GitHub\n",
    "* Desarrollo de Juegos Educativos: El objetivo principal de esta historia de usuario es contratar a un equipo de analistas de datos para desarrollar tres juegos diferentes (Preguntas y Respuestas, Ahorcado y piedra,papel y tijeras) que sean tanto lúdicos como educativos.\n",
    "\n",
    "* Implantación en la Plataforma GitHub: Los juegos desarrollados deben ser implantados en la plataforma GitHub para que los usuarios puedan acceder a ellos fácilmente.\n",
    "\n",
    "* Experiencia Educativa: Los juegos deben proporcionar una experiencia de entretenimiento educativo para los usuarios de GitHub. Esto implica asegurarse de que los juegos sean divertidos y atractivos, al mismo tiempo que proporcionan oportunidades de aprendizaje.\n",
    "\n",
    "* Diversidad de Juegos: Se espera que el equipo desarrolle tres juegos diferentes para garantizar una variedad de opciones de entretenimiento educativo para los usuarios.\n",
    "\n",
    "* Facilitar el Aprendizaje: Los juegos deben ser diseñados de manera que permitan a los usuarios aprender mientras se divierten. Esto podría incluir preguntas y respuestas relacionadas con temas educativos, resolución de problemas en el juego del Ahorcado, y desarrollo de habilidades estratégicas en el juego del Tres en Raya.\n",
    "\n",
    "* Accesibilidad y Usabilidad: Los juegos deben ser accesibles y fáciles de usar para todos los usuarios de GitHub, independientemente de su nivel de habilidad técnica o conocimiento previo de los juegos.\n",
    "\n",
    "* Documentación y Soporte: Es crucial que los juegos vengan acompañados de una documentación completa que explique cómo jugar cada juego, así como cualquier configuración o personalización disponible. Además, se debe proporcionar soporte técnico para resolver cualquier problema o pregunta que los usuarios puedan tener.\n",
    "\n",
    "* Entrega Eficiente y Dentro del Presupuesto: El equipo de analistas de datos debe completar el desarrollo de los juegos de manera eficiente y dentro del presupuesto acordado para garantizar la viabilidad del proyecto.\n",
    "\n",
    "* Mantenimiento y Actualizaciones Futuras: Se espera que los juegos sean diseñados de manera que faciliten su mantenimiento y permitan futuras actualizaciones para mejorar la experiencia de los usuarios.\n",
    "\n",
    "\n",
    "\n",
    "\n",
    "\n"
   ]
  },
  {
   "cell_type": "markdown",
   "metadata": {
    "vscode": {
     "languageId": "plaintext"
    }
   },
   "source": [
    "\n",
    "\n",
    "### Criterios de Aceptación:\n",
    "\n",
    "* quiero acceder a tres juegos diferentes (Preguntas y Respuestas, Ahorcado y piedra,papel y tijera) desde la plataforma de GitHub.\n",
    "\n",
    "* los juegos sean interactivos y atractivos visualmente para mantenerme interesado.\n",
    "\n",
    "* los juegos sean educativos y me ayuden a aprender mientras me divierto.\n",
    "\n",
    "* quiero poder jugar a los juegos desde cualquier dispositivo con conexión a Internet.\n",
    "\n",
    "* quiero que los juegos tengan una interfaz intuitiva y fácil de usar.\n",
    "\n",
    "* quiero que los juegos tengan un nivel de dificultad media\n",
    "\n",
    "* quiero que el equipo de analistas de datos desarrolle los juegos de manera eficiente y dentro del presupuesto acordado.\n",
    "\n",
    "* el equipo de analistas de datos entregue los juegos en un formato compatible con la plataforma GitHub.\n",
    "\n",
    "* que los juegos estén bien documentados para facilitar su mantenimiento y futuras actualizaciones.\n",
    "\n",
    "* quiero que el equipo de analistas de datos me proporcione soporte técnico para la implementación y el lanzamiento de los juegos en la plataforma GitHub.\n",
    "\n",
    "\n",
    "### Definición de Terminado:\n",
    "* Los juegos están desarrollados y funcionando correctamente.\n",
    "* Los juegos tienen una interfaz gráfica atractiva y son fáciles de usar.\n",
    "* Los juegos son educativos y proporcionan una experiencia de aprendizaje significativa.\n",
    "* Los juegos están integrados en la plataforma GitHub y son accesibles desde cualquier dispositivo con conexión a Internet.\n",
    "* Se proporciona soporte técnico para la implementación y el lanzamiento de los juegos en la plataforma GitHub."
   ]
  },
  {
   "cell_type": "markdown",
   "metadata": {},
   "source": []
  },
  {
   "cell_type": "markdown",
   "metadata": {},
   "source": []
  },
  {
   "cell_type": "markdown",
   "metadata": {},
   "source": []
  }
 ],
 "metadata": {
  "language_info": {
   "name": "python"
  }
 },
 "nbformat": 4,
 "nbformat_minor": 2
}
